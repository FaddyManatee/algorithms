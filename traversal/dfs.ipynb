{
 "cells": [
  {
   "cell_type": "code",
   "execution_count": 1,
   "metadata": {},
   "outputs": [],
   "source": [
    "def neighbours(graph, u):\n",
    "    return graph.get(u)\n",
    "\n",
    "visited = {}\n",
    "\n",
    "def dfs(graph, s, out=True):\n",
    "    for vert in dict.keys(graph):\n",
    "        visited[vert] = False\n",
    "\n",
    "    dfs_recurse(graph, s, out)\n",
    "\n",
    "\n",
    "def dfs_recurse(graph, v, out):\n",
    "    visited[v] = True\n",
    "    \n",
    "    if out:\n",
    "        print(v)\n",
    "\n",
    "    for n in neighbours(graph, v):\n",
    "        if not visited[n]:\n",
    "            dfs_recurse(graph, n, out)"
   ]
  },
  {
   "cell_type": "code",
   "execution_count": 2,
   "metadata": {},
   "outputs": [],
   "source": [
    "def dfsnum(graph):\n",
    "    for vert in dict.keys(graph):\n",
    "        visited[vert] = False\n",
    "    c = 0\n",
    "\n",
    "    for v in dict.keys(graph):\n",
    "        if not visited[v]:\n",
    "            c += 1\n",
    "            dfs(graph, v, out=False)\n",
    "    return c"
   ]
  },
  {
   "cell_type": "code",
   "execution_count": 3,
   "metadata": {},
   "outputs": [
    {
     "name": "stdout",
     "output_type": "stream",
     "text": [
      "1\n",
      "2\n",
      "3\n",
      "5\n",
      "4\n",
      "6\n",
      "7\n",
      "8\n",
      "Connected components: 2\n"
     ]
    }
   ],
   "source": [
    "dfs({1:[2,3], 2:[1,3,4,5], 3:[1,2,5,7,8], 4:[2,5], 5:[2,3,4,6], 6:[5], 7:[3,8], 8:[3,7]}, 1)\n",
    "                                                                                                                                 # 2nd component\n",
    "print(\"Connected components: \" + str(dfsnum({1:[2,3], 2:[1,3,4,5], 3:[1,2,5,7,8], 4:[2,5], 5:[2,3,4,6], 6:[5], 7:[3,8], 8:[3,7], 9:[10], 10:[9]})))"
   ]
  }
 ],
 "metadata": {
  "kernelspec": {
   "display_name": "jupyter",
   "language": "python",
   "name": "python3"
  },
  "language_info": {
   "codemirror_mode": {
    "name": "ipython",
    "version": 3
   },
   "file_extension": ".py",
   "mimetype": "text/x-python",
   "name": "python",
   "nbconvert_exporter": "python",
   "pygments_lexer": "ipython3",
   "version": "3.6.8"
  },
  "orig_nbformat": 4
 },
 "nbformat": 4,
 "nbformat_minor": 2
}
