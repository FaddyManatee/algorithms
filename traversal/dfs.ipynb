{
 "cells": [
  {
   "cell_type": "code",
   "execution_count": 11,
   "metadata": {},
   "outputs": [],
   "source": [
    "def neighbours(graph, u):\n",
    "    return graph.get(u)\n",
    "\n",
    "visited = {}\n",
    "\n",
    "def dfs(graph, s):\n",
    "    for vert in dict.keys(graph):\n",
    "        visited[vert] = False\n",
    "\n",
    "    dfs_recurse(graph, s)\n",
    "\n",
    "\n",
    "def dfs_recurse(graph, v):\n",
    "    visited[v] = True\n",
    "    print(v)\n",
    "\n",
    "    for n in neighbours(graph, v):\n",
    "        if not visited[n]:\n",
    "            dfs_recurse(graph, n)"
   ]
  },
  {
   "cell_type": "code",
   "execution_count": 12,
   "metadata": {},
   "outputs": [
    {
     "name": "stdout",
     "output_type": "stream",
     "text": [
      "1\n",
      "2\n",
      "3\n",
      "5\n",
      "4\n",
      "6\n",
      "7\n",
      "8\n",
      "None\n"
     ]
    }
   ],
   "source": [
    "print(dfs({1:[2,3], 2:[1,3,4,5], 3:[1,2,5,7,8], 4:[2,5], 5:[2,3,4,6], 6:[5], 7:[3,8], 8:[3,7]}, 1))"
   ]
  }
 ],
 "metadata": {
  "kernelspec": {
   "display_name": "jupyter",
   "language": "python",
   "name": "python3"
  },
  "language_info": {
   "codemirror_mode": {
    "name": "ipython",
    "version": 3
   },
   "file_extension": ".py",
   "mimetype": "text/x-python",
   "name": "python",
   "nbconvert_exporter": "python",
   "pygments_lexer": "ipython3",
   "version": "3.6.8"
  },
  "orig_nbformat": 4
 },
 "nbformat": 4,
 "nbformat_minor": 2
}
