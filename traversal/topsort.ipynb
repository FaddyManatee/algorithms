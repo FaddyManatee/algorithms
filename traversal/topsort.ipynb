{
 "cells": [
  {
   "cell_type": "code",
   "execution_count": 11,
   "metadata": {},
   "outputs": [],
   "source": [
    "def outgoing_neighbours(graph, u):\n",
    "    return graph.get(u)\n",
    "\n",
    "i = 0\n",
    "status = {}\n",
    "\n",
    "def visit(graph, v):\n",
    "    if status.get(v) == 1:\n",
    "        return\n",
    "    \n",
    "    if status.get(v) == 0:\n",
    "        status[v] = 1\n",
    "\n",
    "        for w in outgoing_neighbours(graph, v):\n",
    "            visit(graph, w)\n",
    "        status[v] = 2\n",
    "        \n",
    "        global i\n",
    "        print(\"o(v={}) = {}\".format(v, i))\n",
    "        i -= 1\n",
    "\n",
    "\n",
    "def topological_sort(graph):\n",
    "    global i\n",
    "    i = len(graph)\n",
    "\n",
    "    # 0 = unvisited, 1 = stacked, 2 = visited\n",
    "    for v in graph:\n",
    "        status[v] = 0\n",
    "\n",
    "    while 0 in dict.values(status):\n",
    "        for v in dict.keys(status):\n",
    "            if status.get(v) == 0:\n",
    "                node = v\n",
    "        visit(graph, node)"
   ]
  },
  {
   "cell_type": "code",
   "execution_count": 12,
   "metadata": {},
   "outputs": [
    {
     "name": "stdout",
     "output_type": "stream",
     "text": [
      "o(v=F) = 7\n",
      "o(v=C) = 6\n",
      "o(v=D) = 5\n",
      "o(v=E) = 4\n",
      "o(v=G) = 3\n",
      "o(v=B) = 2\n",
      "o(v=A) = 1\n"
     ]
    }
   ],
   "source": [
    "topological_sort({\"A\":[\"B\",\"C\",\"D\"], \"B\":[\"D\",\"E\"], \"C\":[\"F\"], \"D\":[\"C\",\"F\"], \"E\":[\"D\"], \"F\":[], \"G\":[\"D\",\"E\",\"F\"]})"
   ]
  }
 ],
 "metadata": {
  "kernelspec": {
   "display_name": "jupyter",
   "language": "python",
   "name": "python3"
  },
  "language_info": {
   "codemirror_mode": {
    "name": "ipython",
    "version": 3
   },
   "file_extension": ".py",
   "mimetype": "text/x-python",
   "name": "python",
   "nbconvert_exporter": "python",
   "pygments_lexer": "ipython3",
   "version": "3.6.8"
  },
  "orig_nbformat": 4
 },
 "nbformat": 4,
 "nbformat_minor": 2
}
