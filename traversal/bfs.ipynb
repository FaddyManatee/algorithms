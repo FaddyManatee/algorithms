{
 "cells": [
  {
   "cell_type": "code",
   "execution_count": 1,
   "metadata": {},
   "outputs": [],
   "source": [
    "from queue import Queue\n",
    "\n",
    "def neighbours(graph, u):\n",
    "    return graph.get(u)\n",
    "\n",
    "\n",
    "def bfs(graph, s):\n",
    "    q = Queue()\n",
    "    q.put(s)\n",
    "\n",
    "    visited = {}\n",
    "    for vert in dict.keys(graph):\n",
    "        visited[vert] = False\n",
    "    visited[s] = True\n",
    "\n",
    "    while not q.empty():\n",
    "        u = q.get()\n",
    "        print(u)\n",
    "\n",
    "        for v in neighbours(graph, u):\n",
    "            if not visited[v]:\n",
    "                visited[v] = True\n",
    "                q.put(v)"
   ]
  },
  {
   "cell_type": "code",
   "execution_count": 2,
   "metadata": {},
   "outputs": [
    {
     "name": "stdout",
     "output_type": "stream",
     "text": [
      "1\n",
      "2\n",
      "3\n",
      "4\n",
      "5\n",
      "7\n",
      "8\n",
      "6\n"
     ]
    }
   ],
   "source": [
    "bfs({1:[2,3], 2:[1,3,4,5], 3:[1,2,5,7,8], 4:[2,5], 5:[2,3,4,6], 6:[5], 7:[3,8], 8:[3,7]}, 1)"
   ]
  }
 ],
 "metadata": {
  "kernelspec": {
   "display_name": "jupyter",
   "language": "python",
   "name": "python3"
  },
  "language_info": {
   "codemirror_mode": {
    "name": "ipython",
    "version": 3
   },
   "file_extension": ".py",
   "mimetype": "text/x-python",
   "name": "python",
   "nbconvert_exporter": "python",
   "pygments_lexer": "ipython3",
   "version": "3.6.8"
  },
  "orig_nbformat": 4
 },
 "nbformat": 4,
 "nbformat_minor": 2
}
