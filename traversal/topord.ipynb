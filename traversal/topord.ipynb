{
 "cells": [
  {
   "cell_type": "code",
   "execution_count": 17,
   "metadata": {},
   "outputs": [],
   "source": [
    "from queue import Queue\n",
    "\n",
    "def topological_order(graph):\n",
    "    q = Queue()\n",
    "    count = {}\n",
    "\n",
    "    for v in dict.keys(graph):\n",
    "        count[v] = 0\n",
    "\n",
    "    for v in dict.keys(graph):\n",
    "        for w in graph[v]:\n",
    "            count[w] += 1\n",
    "\n",
    "    for v in dict.keys(graph):\n",
    "        if count.get(v) == 0:\n",
    "            q.put(v)\n",
    "\n",
    "    while not q.empty():\n",
    "        v = q.get()\n",
    "        print(v)\n",
    "\n",
    "        for w in graph[v]:\n",
    "            count[w] -= 1\n",
    "\n",
    "            if count[w] == 0:\n",
    "                q.put(w)"
   ]
  },
  {
   "cell_type": "code",
   "execution_count": 18,
   "metadata": {},
   "outputs": [
    {
     "name": "stdout",
     "output_type": "stream",
     "text": [
      "{'A': 0, 'B': 1, 'C': 2, 'D': 4, 'E': 2, 'F': 3, 'G': 0}\n",
      "A\n",
      "G\n",
      "B\n",
      "E\n",
      "D\n",
      "C\n",
      "F\n"
     ]
    }
   ],
   "source": [
    "topological_order({\"A\":[\"B\",\"C\",\"D\"], \"B\":[\"D\",\"E\"], \"C\":[\"F\"], \"D\":[\"C\",\"F\"], \"E\":[\"D\"], \"F\":[], \"G\":[\"D\",\"E\",\"F\"]})"
   ]
  }
 ],
 "metadata": {
  "kernelspec": {
   "display_name": "jupyter",
   "language": "python",
   "name": "python3"
  },
  "language_info": {
   "codemirror_mode": {
    "name": "ipython",
    "version": 3
   },
   "file_extension": ".py",
   "mimetype": "text/x-python",
   "name": "python",
   "nbconvert_exporter": "python",
   "pygments_lexer": "ipython3",
   "version": "3.6.8"
  },
  "orig_nbformat": 4
 },
 "nbformat": 4,
 "nbformat_minor": 2
}
