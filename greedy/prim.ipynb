{
 "cells": [
  {
   "cell_type": "code",
   "execution_count": 19,
   "metadata": {},
   "outputs": [],
   "source": [
    "from copy import deepcopy\n",
    "\n",
    "INF = 999999\n",
    "\n",
    "def neighbours(graph, u):\n",
    "    return [i[0] for i in graph.get(u)]\n",
    "\n",
    "\n",
    "def weight(graph, u, v):\n",
    "    n = graph.get(u)\n",
    "\n",
    "    nodes = [i[0] for i in n]\n",
    "    weights = [i[1] for i in n]\n",
    "\n",
    "    if v in nodes:\n",
    "        return weights[nodes.index(v)]\n",
    "\n",
    "\n",
    "def remove_min(q: list, a):\n",
    "    # Highest priority node (lowest weight).\n",
    "    i = None\n",
    "    cost = 0\n",
    "\n",
    "    temp = dict(deepcopy(a))\n",
    "    while i not in q:\n",
    "        i = min(temp, key=temp.get)\n",
    "        cost = temp.get(i)\n",
    "        temp.pop(i)\n",
    "\n",
    "    mini = q.pop(q.index(i))\n",
    "    return mini, cost, q\n",
    "\n",
    "\n",
    "def prim(graph):\n",
    "    # Arbitrary start node s.\n",
    "    s = list(dict.keys(graph))[0]\n",
    "    visited_s = []\n",
    "    mst_edges_f = []\n",
    "    total_cost = 0\n",
    "    visited_s.append(s)\n",
    "\n",
    "    # Empty priority queue, with weight priorites in 'a'.\n",
    "    q = []\n",
    "    a = {}\n",
    "    p = {}\n",
    "\n",
    "    for v in dict.keys(graph):\n",
    "        if v == s:\n",
    "            continue\n",
    "\n",
    "        if v in neighbours(graph, s):\n",
    "            a[v] = weight(graph, s, v)\n",
    "            p[v] = s\n",
    "        \n",
    "        else:\n",
    "            a[v] = INF\n",
    "        \n",
    "        # enqueue(q, v)\n",
    "        q.append(v)\n",
    "\n",
    "    while len(q) != 0:\n",
    "        u, c, q = remove_min(q, a)\n",
    "        total_cost += c\n",
    "        visited_s.append(u)\n",
    "        mst_edges_f.append([p[u], u])\n",
    "\n",
    "        for v in neighbours(graph, u):\n",
    "            if v not in visited_s and a[v] > weight(graph, u, v):\n",
    "                p[v] = u\n",
    "                a[v] = weight(graph, u, v)\n",
    "\n",
    "    return mst_edges_f, total_cost"
   ]
  },
  {
   "cell_type": "code",
   "execution_count": 20,
   "metadata": {},
   "outputs": [
    {
     "name": "stdout",
     "output_type": "stream",
     "text": [
      "['B', 'C', 'D', 'E', 'F', 'G', 'H']\n",
      "['C', 'D', 'E', 'F', 'G', 'H']\n",
      "['C', 'E', 'F', 'G', 'H']\n",
      "['C', 'E', 'G', 'H']\n",
      "['E', 'G', 'H']\n",
      "['E', 'H']\n",
      "['E']\n",
      "MST edge set: [['A', 'B'], ['A', 'D'], ['D', 'F'], ['D', 'C'], ['F', 'G'], ['G', 'H'], ['G', 'E']]\n",
      "Total cost: 50\n"
     ]
    }
   ],
   "source": [
    "graph = {\"A\":[(\"B\",4),(\"C\",16),(\"D\",6)], \"B\":[(\"A\",4),(\"E\",24)], \"C\":[(\"A\",16),(\"D\",8),(\"F\",10),(\"H\",21)], \"D\":[(\"A\",6),(\"C\",8),(\"E\",23),(\"F\",5)], \"E\":[(\"B\",24),(\"D\",23),(\"F\",18),(\"G\",9)], \"F\":[(\"C\",10),(\"D\",5),(\"E\",18),(\"G\",11),(\"H\",14)], \"G\":[(\"E\",9),(\"F\",11),(\"H\",7)], \"H\":[(\"C\",21),(\"F\",14),(\"G\",7)]}\n",
    "mst, cost = prim(graph)\n",
    "print(\"MST edge set: \" + str(mst))\n",
    "print(\"Total cost: \" + str(cost))"
   ]
  }
 ],
 "metadata": {
  "kernelspec": {
   "display_name": "jupyter",
   "language": "python",
   "name": "python3"
  },
  "language_info": {
   "codemirror_mode": {
    "name": "ipython",
    "version": 3
   },
   "file_extension": ".py",
   "mimetype": "text/x-python",
   "name": "python",
   "nbconvert_exporter": "python",
   "pygments_lexer": "ipython3",
   "version": "3.6.8"
  },
  "orig_nbformat": 4
 },
 "nbformat": 4,
 "nbformat_minor": 2
}
