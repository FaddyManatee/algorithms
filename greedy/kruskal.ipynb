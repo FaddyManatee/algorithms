{
 "cells": [
  {
   "cell_type": "code",
   "execution_count": 39,
   "metadata": {},
   "outputs": [],
   "source": [
    "from copy import deepcopy\n",
    "\n",
    "def different_sets(sets, u, v):\n",
    "    for set in sets:\n",
    "        if u in set:\n",
    "            if v in set:\n",
    "                return False\n",
    "            return True\n",
    "\n",
    "\n",
    "def merge_sets(sets, u, v):\n",
    "    set_one = []\n",
    "    set_two = []\n",
    "\n",
    "    for set in sets:\n",
    "        if u in set:\n",
    "            set_one = deepcopy(set)\n",
    "            sets.remove(set)\n",
    "\n",
    "    for set in sets:\n",
    "        if v in set:\n",
    "            set_two = deepcopy(set)\n",
    "            sets.remove(set)\n",
    "    \n",
    "    new_set = set_one + set_two\n",
    "    sets.append(new_set)\n",
    "\n",
    "    return sets\n",
    "\n",
    "\n",
    "def kruskal(graph):\n",
    "    # Enumerate edges, then sort them by ascending weight.\n",
    "    # w(e1) <= w(e2) <= ... <= w(em)\n",
    "    edges = []\n",
    "    for u in dict.keys(graph):\n",
    "        for e in graph.get(u):\n",
    "            edges.append((u, e[0], e[1]))\n",
    "    edges = sorted(edges, key=lambda x: x[2])\n",
    "\n",
    "    mst_edges_f = []\n",
    "    sets = []\n",
    "    cost = 0\n",
    "\n",
    "    for v in dict.keys(graph):\n",
    "        sets.append([v])\n",
    "\n",
    "    for i in range(0, len(edges)):\n",
    "        candidate = [edges[i][0], edges[i][1]]\n",
    "\n",
    "        if different_sets(sets, candidate[0], candidate[1]):\n",
    "            mst_edges_f.append(candidate)\n",
    "            cost += edges[i][2]\n",
    "            sets = merge_sets(sets, candidate[0], candidate[1])\n",
    "\n",
    "    return mst_edges_f, cost"
   ]
  },
  {
   "cell_type": "code",
   "execution_count": 40,
   "metadata": {},
   "outputs": [
    {
     "name": "stdout",
     "output_type": "stream",
     "text": [
      "MST edge set: [['A', 'B'], ['D', 'F'], ['A', 'D'], ['G', 'H'], ['C', 'D'], ['E', 'G'], ['F', 'G']]\n",
      "Total cost: 50\n"
     ]
    }
   ],
   "source": [
    "graph = {\"A\":[(\"B\",4),(\"C\",16),(\"D\",6)], \"B\":[(\"A\",4),(\"E\",24)], \"C\":[(\"A\",16),(\"D\",8),(\"F\",10),(\"H\",21)], \"D\":[(\"A\",6),(\"C\",8),(\"E\",23),(\"F\",5)], \"E\":[(\"B\",24),(\"D\",23),(\"F\",18),(\"G\",9)], \"F\":[(\"C\",10),(\"D\",5),(\"E\",18),(\"G\",11),(\"H\",14)], \"G\":[(\"E\",9),(\"F\",11),(\"H\",7)], \"H\":[(\"C\",21),(\"F\",14),(\"G\",7)]}\n",
    "mst, cost = kruskal(graph)\n",
    "print(\"MST edge set: \" + str(mst))\n",
    "print(\"Total cost: \" + str(cost))"
   ]
  }
 ],
 "metadata": {
  "kernelspec": {
   "display_name": "jupyter",
   "language": "python",
   "name": "python3"
  },
  "language_info": {
   "codemirror_mode": {
    "name": "ipython",
    "version": 3
   },
   "file_extension": ".py",
   "mimetype": "text/x-python",
   "name": "python",
   "nbconvert_exporter": "python",
   "pygments_lexer": "ipython3",
   "version": "3.6.8"
  },
  "orig_nbformat": 4
 },
 "nbformat": 4,
 "nbformat_minor": 2
}
