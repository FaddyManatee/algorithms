{
 "cells": [
  {
   "cell_type": "code",
   "execution_count": 9,
   "metadata": {},
   "outputs": [],
   "source": [
    "from copy import deepcopy\n",
    "\n",
    "INF = 999999\n",
    "\n",
    "def neighbours(graph, u):\n",
    "    return [i[0] for i in graph.get(u)]\n",
    "\n",
    "\n",
    "def weight(graph, u, v):\n",
    "    n = graph.get(u)\n",
    "\n",
    "    nodes = [i[0] for i in n]\n",
    "    weights = [i[1] for i in n]\n",
    "\n",
    "    if v in nodes:\n",
    "        return weights[nodes.index(v)]\n",
    "    \n",
    "\n",
    "def remove_min(q: list, a):\n",
    "    # Highest priority node (lowest weight).\n",
    "    i = None\n",
    "\n",
    "    temp = dict(deepcopy(a))\n",
    "    while i not in q:\n",
    "        i = min(temp, key=temp.get)\n",
    "        temp.pop(i)\n",
    "\n",
    "    mini = q.pop(q.index(i))\n",
    "    return mini, q\n",
    "\n",
    "\n",
    "def dijkstra(graph, s):\n",
    "    visited = {}\n",
    "    l = {}\n",
    "    p = {}\n",
    "\n",
    "    for v in dict.keys(graph):\n",
    "        if v == s:\n",
    "            continue\n",
    "\n",
    "        visited[v] = False\n",
    "        l[v] = INF\n",
    "\n",
    "    unvisited = list(dict.keys(graph))\n",
    "    unvisited.remove(s)\n",
    "    sp_edges = []\n",
    "    visited[s] = True\n",
    "    l[s] = 0\n",
    "\n",
    "    for v in neighbours(graph, s):\n",
    "        l[v] = weight(graph, s, v)\n",
    "        p[v] = s\n",
    "\n",
    "    while len(unvisited) != 0:\n",
    "        u, unvisited = remove_min(unvisited, l)\n",
    "        sp_edges.append((p[u], u))\n",
    "        visited[u] = True\n",
    "\n",
    "        for v in neighbours(graph, u):\n",
    "            if not visited[v] and (l[v] > l[u] + weight(graph, u, v)):\n",
    "                l[v] = l[u] + weight(graph, u, v)\n",
    "                p[v] = u\n",
    "\n",
    "    return sp_edges, l"
   ]
  },
  {
   "cell_type": "code",
   "execution_count": 10,
   "metadata": {},
   "outputs": [
    {
     "name": "stdout",
     "output_type": "stream",
     "text": [
      "SPT edge set: [(1, 2), (1, 6), (1, 7), (2, 3), (3, 5), (5, 4), (5, 8)]\n",
      "Shortest distances: {2: 9, 3: 32, 4: 45, 5: 34, 6: 14, 7: 15, 8: 50, 1: 0}\n"
     ]
    }
   ],
   "source": [
    "graph = {1:[(2,9),(6,14),(7,15)], 2:[(3,23)], 3:[(8,19),(5,2)], 4:[(3,6),(8,6)], 5:[(4,11),(8,16)], 6:[(3,18),(7,5),(5,30)], 7:[(5,20),(8,44)], 8:[]}\n",
    "sp_tree, distances = dijkstra(graph, 1)\n",
    "print(\"SPT edge set: \" + str(sp_tree))\n",
    "print(\"Shortest distances: \" + str(distances))"
   ]
  }
 ],
 "metadata": {
  "kernelspec": {
   "display_name": "jupyter",
   "language": "python",
   "name": "python3"
  },
  "language_info": {
   "codemirror_mode": {
    "name": "ipython",
    "version": 3
   },
   "file_extension": ".py",
   "mimetype": "text/x-python",
   "name": "python",
   "nbconvert_exporter": "python",
   "pygments_lexer": "ipython3",
   "version": "3.6.8"
  },
  "orig_nbformat": 4
 },
 "nbformat": 4,
 "nbformat_minor": 2
}
