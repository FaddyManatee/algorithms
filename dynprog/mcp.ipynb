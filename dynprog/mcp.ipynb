{
 "cells": [
  {
   "cell_type": "code",
   "execution_count": 1,
   "metadata": {},
   "outputs": [],
   "source": [
    "from copy import deepcopy\n",
    "\n",
    "INF = 999999\n",
    "\n",
    "def toodee_print(matrix):\n",
    "    g = deepcopy(matrix)\n",
    "    g.remove(g[0])\n",
    "    for row in g:\n",
    "        row.remove(0)\n",
    "        print(row)\n",
    "\n",
    "\n",
    "def mcp(array):\n",
    "    n = len(array)\n",
    "    m_table = [[0 for _ in range(n)] for _ in range(n)]\n",
    "    s_table = [[0 for _ in range(n)] for _ in range(n)]\n",
    "\n",
    "    for run in range(2, n):\n",
    "        for a in range(1, n - run + 1):\n",
    "            b = a + run - 1\n",
    "\n",
    "            m_table[a][b] = INF\n",
    "            for c in range(a, b):\n",
    "                cost = m_table[a][c] + m_table[c + 1][b] + array[a - 1] * array[c] * array[b]\n",
    "\n",
    "                if cost < m_table[a][b]:\n",
    "                    m_table[a][b] = cost\n",
    "                    s_table[a][b] = c\n",
    "    return m_table, s_table\n",
    "\n",
    "\n",
    "def print_optiomal(s_table, i, j):\n",
    "    if i == j:\n",
    "        print(\"A\" + str(i), end=\" \")\n",
    "    else:\n",
    "        print(\"(\", end=\" \")\n",
    "        print_optiomal(s_table, i, s_table[i][j])\n",
    "        print_optiomal(s_table, s_table[i][j] + 1, j)\n",
    "        print(\")\", end=\" \")"
   ]
  },
  {
   "cell_type": "code",
   "execution_count": 2,
   "metadata": {},
   "outputs": [
    {
     "name": "stdout",
     "output_type": "stream",
     "text": [
      "M\n",
      "[0, 120, 88, 158]\n",
      "[0, 0, 48, 104]\n",
      "[0, 0, 0, 84]\n",
      "[0, 0, 0, 0]\n",
      "\n",
      "S\n",
      "[0, 1, 1, 3]\n",
      "[0, 0, 2, 3]\n",
      "[0, 0, 0, 3]\n",
      "[0, 0, 0, 0]\n",
      "Total scalar multiplications: 158\n",
      "( ( A1 ( A2 A3 ) ) A4 ) "
     ]
    }
   ],
   "source": [
    "array = [5,4,6,2,7]\n",
    "n = len(array)\n",
    "m_table, s_table = mcp(array)\n",
    "\n",
    "print(\"M\")\n",
    "toodee_print(m_table)\n",
    "\n",
    "print(\"\\nS\")\n",
    "toodee_print(s_table)\n",
    "\n",
    "print(\"Total scalar multiplications: \" + str(m_table[1][n - 1]))\n",
    "print_optiomal(s_table, 1, n - 1)"
   ]
  }
 ],
 "metadata": {
  "kernelspec": {
   "display_name": "jupyter",
   "language": "python",
   "name": "python3"
  },
  "language_info": {
   "codemirror_mode": {
    "name": "ipython",
    "version": 3
   },
   "file_extension": ".py",
   "mimetype": "text/x-python",
   "name": "python",
   "nbconvert_exporter": "python",
   "pygments_lexer": "ipython3",
   "version": "3.6.8"
  },
  "orig_nbformat": 4
 },
 "nbformat": 4,
 "nbformat_minor": 2
}
