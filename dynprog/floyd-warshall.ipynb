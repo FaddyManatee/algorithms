{
 "cells": [
  {
   "cell_type": "code",
   "execution_count": 7,
   "metadata": {},
   "outputs": [],
   "source": [
    "from copy import deepcopy\n",
    "\n",
    "# Infinity\n",
    "I = 999999\n",
    "\n",
    "def toodee_print(matrix: list):\n",
    "    for row in matrix:\n",
    "        row = [\"I\" if x > 900000 else x for x in row]\n",
    "        print(row)\n",
    "\n",
    "\n",
    "def floyd_warshall(graph):\n",
    "    n = len(graph)\n",
    "    matrix = [[0 for _ in range(n)] for _ in range(n)]\n",
    "\n",
    "    for i in range(0, n):\n",
    "        for j in range(0, n):\n",
    "            if i == j:\n",
    "                continue\n",
    "\n",
    "            if graph[i][j] != I:\n",
    "                matrix[i][j] = graph[i][j]\n",
    "            else:\n",
    "                matrix[i][j] = I\n",
    "\n",
    "    prev_matrix = deepcopy(graph)\n",
    "    for m in range(0, n):\n",
    "        for i in range(0, n):\n",
    "            if i == m:\n",
    "                continue\n",
    "\n",
    "            for j in range(0, n):\n",
    "                if j == m or j == i:\n",
    "                    continue\n",
    "\n",
    "                matrix[i][j] = min(prev_matrix[i][j], prev_matrix[i][m] + prev_matrix[m][j])\n",
    "        prev_matrix = deepcopy(matrix)\n",
    "\n",
    "    return matrix\n"
   ]
  },
  {
   "cell_type": "code",
   "execution_count": 8,
   "metadata": {},
   "outputs": [
    {
     "name": "stdout",
     "output_type": "stream",
     "text": [
      "[0, 5, 3, 10, 5, 4]\n",
      "['I', 0, -2, 5, 0, -1]\n",
      "['I', 4, 0, 9, 3, 2]\n",
      "['I', -3, -7, 0, -5, -6]\n",
      "['I', 2, -2, 7, 0, -1]\n",
      "['I', 10, 6, 15, 8, 0]\n"
     ]
    }
   ],
   "source": [
    "graph = [\n",
    "            [0,5,3,I,I,I],\n",
    "            [I,0,I,5,I,I],\n",
    "            [I,4,0,I,3,I],\n",
    "            [I,8,I,0,-5,12],\n",
    "            [I,7,-2,I,0,-1],\n",
    "            [I,I,I,I,8,0]\n",
    "        ]\n",
    "\n",
    "apsp = floyd_warshall(graph)\n",
    "toodee_print(apsp)\n"
   ]
  }
 ],
 "metadata": {
  "kernelspec": {
   "display_name": "jupyter",
   "language": "python",
   "name": "python3"
  },
  "language_info": {
   "codemirror_mode": {
    "name": "ipython",
    "version": 3
   },
   "file_extension": ".py",
   "mimetype": "text/x-python",
   "name": "python",
   "nbconvert_exporter": "python",
   "pygments_lexer": "ipython3",
   "version": "3.6.8"
  },
  "orig_nbformat": 4
 },
 "nbformat": 4,
 "nbformat_minor": 2
}
